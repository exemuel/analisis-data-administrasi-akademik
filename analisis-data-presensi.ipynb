{
 "cells": [
  {
   "cell_type": "code",
   "execution_count": null,
   "metadata": {},
   "outputs": [],
   "source": [
    "import xlrd\n",
    "import pandas as pd\n",
    "import matplotlib.pyplot as plt\n",
    "\n",
    "plt.style.use('ggplot')"
   ]
  },
  {
   "cell_type": "code",
   "execution_count": null,
   "metadata": {},
   "outputs": [],
   "source": [
    "def laporan_presensi_per_mk(lokasi_berkas):\n",
    "    wb = xlrd.open_workbook(lokasi_berkas)\n",
    "    sheet = wb.sheet_by_index(0)\n",
    "    \n",
    "    list_pengajar = []\n",
    "    for nomor_baris in range(sheet.nrows):\n",
    "        if sheet.cell_value(nomor_baris, 0) == 'Summary Pengajar':\n",
    "            for nomor_baris_pengajar in range(nomor_baris+3, sheet.nrows):\n",
    "                if sheet.cell(nomor_baris_pengajar, 0).value == '':\n",
    "                    break\n",
    "                list_pengajar.append(sheet.row_values(nomor_baris_pengajar, 0)[1:2] +\n",
    "                                     sheet.row_values(nomor_baris_pengajar, 0)[0:1])\n",
    "    \n",
    "    list_presensi = [] \n",
    "    for nomor_baris in range(sheet.nrows):\n",
    "        if sheet.cell_value(nomor_baris, 0) == 'Nama Mahasiswa':\n",
    "            for nomor_baris_mahasiswa in range(nomor_baris, sheet.nrows):\n",
    "                list_presensi.append(sheet.row_values(nomor_baris_mahasiswa, 0)[0:2] +\n",
    "                                     sheet.row_values(nomor_baris_mahasiswa, 0)[5:])\n",
    "            break\n",
    "    nama_kolom = list_presensi.pop(0)\n",
    "    df_presensi = pd.DataFrame(list_presensi, columns=nama_kolom)\n",
    "    \n",
    "    x = df_presensi. iloc[:, 0].tolist()\n",
    "    y = df_presensi.apply(lambda row: sum(row[0:]=='O') ,axis=1).tolist()\n",
    "    \n",
    "    x_pos = [i for i, _ in enumerate(x)]\n",
    "    \n",
    "    # bagian ini akan dibuat dinamis\n",
    "    maks_kehadiran = 13\n",
    "    \n",
    "    plt.figure(figsize=(8, 4), dpi= 500, facecolor='w', edgecolor='k')\n",
    "    plt.bar(x_pos, y, color=(0.2, 0.4, 0.6, 0.6))\n",
    "    plt.xlabel('Nama Mahasiswa')\n",
    "    plt.ylabel('Jumlah Kehadiran')\n",
    "    plt.title(sheet.cell_value(0, 0))\n",
    "    \n",
    "    plt.figtext(0, -0.3, sheet.cell_value(2, 0), wrap=True)\n",
    "    for indeks, nilai in enumerate(list_pengajar):\n",
    "        plt.figtext(0, -0.35-(indeks*0.05),\n",
    "                    'Pengajar ' + str(indeks + 1) + ': ' + nilai[1] + ' (' + str(nilai[0]) + ')', wrap=True)\n",
    "        \n",
    "        if indeks == len(list_pengajar)-1:\n",
    "            plt.figtext(0, -0.4-(indeks*0.05), \n",
    "                        str('Rata-rata kehadiran: ' + \n",
    "                            \"%.2f\" % (sum([(element / maks_kehadiran) for element in y]) / len(y) * 100)) + '%', \n",
    "                        wrap=True)\n",
    "            plt.figtext(0, -0.45-(indeks*0.05), \n",
    "                        str('Kehadiran minimum: ' + \n",
    "                            \"%.2f\" % (min([(element / maks_kehadiran) for element in y]) * 100)) + '%', \n",
    "                        wrap=True)\n",
    "            plt.figtext(0, -0.5-(indeks*0.05), \n",
    "                        str('Kehadiran maksimum: ' + \n",
    "                            \"%.2f\" % (max([(element / maks_kehadiran) for element in y]) * 100)) + '%', \n",
    "                        wrap=True)\n",
    "    \n",
    "    plt.xticks(x_pos, x, rotation='vertical')\n",
    "    \n",
    "    plt.show()"
   ]
  },
  {
   "cell_type": "code",
   "execution_count": null,
   "metadata": {},
   "outputs": [],
   "source": [
    "laporan_presensi_per_mk('data/sampel-presensi.xls')"
   ]
  }
 ],
 "metadata": {
  "kernelspec": {
   "display_name": "Python 3 (ipykernel)",
   "language": "python",
   "name": "python3"
  },
  "language_info": {
   "codemirror_mode": {
    "name": "ipython",
    "version": 3
   },
   "file_extension": ".py",
   "mimetype": "text/x-python",
   "name": "python",
   "nbconvert_exporter": "python",
   "pygments_lexer": "ipython3",
   "version": "3.9.13"
  }
 },
 "nbformat": 4,
 "nbformat_minor": 4
}
