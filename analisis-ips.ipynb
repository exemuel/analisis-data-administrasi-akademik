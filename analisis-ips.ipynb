{
 "cells": [
  {
   "cell_type": "code",
   "execution_count": null,
   "id": "7668c264",
   "metadata": {},
   "outputs": [],
   "source": [
    "import pandas as pd\n",
    "import numpy as np"
   ]
  },
  {
   "cell_type": "code",
   "execution_count": null,
   "id": "0cadf856",
   "metadata": {},
   "outputs": [],
   "source": [
    "# simpan informasi stata dan nama prodi dalam sebuah tupel\n",
    "tupl_prodi = tuple([['D3', 'Teknologi Informasi'],\n",
    "                    ['D3', 'Teknologi Komputer'],\n",
    "                    ['D3', 'Teknologi Rekayasa Perangkat Lunak'],\n",
    "                    ['D4', 'Teknologi Rekayasa Perangkat Lunak (Tolikara)'],\n",
    "                    ['S1', 'Informatika'],\n",
    "                    ['S1', 'Sistem Informasi'],\n",
    "                    ['S1', 'Teknik Elektro'],\n",
    "                    ['S1', 'Teknik Bioproses'],\n",
    "                    ['S1', 'Manajemen Rekayasa']])\n",
    "\n",
    "# simpan informasi grade dalam sebuah dictionary\n",
    "dict_grade = {'A' : 4.0,\n",
    "              'AB' : 3.5,\n",
    "              'B' : 3.0,\n",
    "              'BC' : 2.5,\n",
    "              'C' : 2.0,\n",
    "              'D' : 1.0,\n",
    "              'E' : 0,\n",
    "              'T' : np.nan}"
   ]
  },
  {
   "cell_type": "code",
   "execution_count": null,
   "id": "21edd8f9",
   "metadata": {},
   "outputs": [],
   "source": [
    "def memuat_data_ke_df(semester, prodi, angkatan):\n",
    "    if prodi == 'Teknologi Rekayasa Perangkat Lunak (Tolikara)':\n",
    "        df = pd.read_excel('./nilai/Rekap_Nilai_' + \n",
    "                           prodi.replace(' (Tolikara)','') + \n",
    "                           '_' + angkatan + '.xlsx',\n",
    "                       engine = 'openpyxl',\n",
    "                       header = [0, 1, 2, 3])\n",
    "    else:\n",
    "        df = pd.read_excel('./nilai/Rekap_Nilai_' + \n",
    "                           prodi + '_' + \n",
    "                           angkatan + '.xlsx',\n",
    "                       engine = 'openpyxl',\n",
    "                       header = [0, 1, 2, 3])\n",
    "    return df"
   ]
  },
  {
   "cell_type": "code",
   "execution_count": null,
   "id": "cb1f129d",
   "metadata": {},
   "outputs": [],
   "source": [
    "def prapemrosesan_data(df, semester, prodi, angkatan):\n",
    "    df_grade = df.xs('Semester ' + semester, level=0, axis=1)\n",
    "    df_grade = df_grade.iloc[: , :-4]\n",
    "    \n",
    "    cols_km = [str(c) for c in list(df_grade.columns.get_level_values(1))[:] \n",
    "              if c != 'Grade' and not 'Unnamed' in str(c)]\n",
    "    cols_km.insert(0, \"Nim\")\n",
    "    \n",
    "    cols = [c for c in df_grade.columns if 'Grade' in c]\n",
    "    df_grade = df_grade[cols]\n",
    "    \n",
    "    dft = pd.concat([df.xs('Nim', level=3, axis=1),\n",
    "                     df_grade], axis=1)\n",
    "    \n",
    "    lst_tmp = []\n",
    "    for idx, col in enumerate(dft):\n",
    "        if idx == 0:\n",
    "            lst_tmp.append(('SKS', 'Grade', cols_km[idx]))\n",
    "        else:\n",
    "            lst_tmp.append((col[0], col[1], cols_km[idx]))\n",
    "    \n",
    "    # sesuaikan nama kolom\n",
    "    dft.columns = pd.MultiIndex.from_tuples(tuple(lst_tmp))\n",
    "    \n",
    "    # \n",
    "    for i in dft:\n",
    "        dft[i] = [dict_grade.get(item,item) for item in dft[i].tolist()]\n",
    "        \n",
    "    # penanganan khusus Prodi Teknologi Rekayasa Perangkat Lunak (Tolikara)\n",
    "    if angkatan == str('2020'):\n",
    "        if prodi == 'Teknologi Rekayasa Perangkat Lunak (Tolikara)':\n",
    "            dft = dft[:25]\n",
    "            dft = dft.dropna(axis=1)\n",
    "        elif prodi == 'Teknologi Rekayasa Perangkat Lunak':\n",
    "            dft = dft[25:]\n",
    "    \n",
    "    # hapus baris data apabila terdapat 50% nilai 0 \n",
    "    mask = (dft.iloc[:, 1:] == float(0)).sum(1) >= len(dft.columns[1:]) / 2\n",
    "    dft = dft[~mask]\n",
    "    \n",
    "    # hapus setiap kolom yang semua nilainya NaN\n",
    "    dft = dft.dropna(how='all', axis=1)\n",
    "    \n",
    "    # hapus setiap baris yang semua nilainya NaN\n",
    "    dft = dft.dropna(how='all', subset=dft.columns[1:])\n",
    "    \n",
    "    # reset index\n",
    "    dft = dft.reset_index(drop=True)\n",
    "    \n",
    "    return dft"
   ]
  },
  {
   "cell_type": "code",
   "execution_count": null,
   "id": "1059267f",
   "metadata": {},
   "outputs": [],
   "source": [
    "# fungsi untuk menghitung indeks prestasi semester berdasarkan\n",
    "# list grade dan list bobot sks\n",
    "def kalkulasi_ips(lst_grd, lst_sks):\n",
    "    # pastikan list sks tidak mengandung NaN\n",
    "    # NaN berarti mahasiswa tersebut tidak mengambil\n",
    "    # mata kuliah yang dimaksud\n",
    "    temp = [i for i, e in enumerate(lst_grd) if str(e).lower() == 'nan']\n",
    "    \n",
    "    lst_grd = [element for (i,element) in enumerate(lst_grd) if i not in temp]\n",
    "    lst_sks = [element for (i,element) in enumerate(lst_sks) if i not in temp]\n",
    "    \n",
    "    a = sum(x * y for x, y in zip(lst_grd, lst_sks))\n",
    "    b = sum(lst_sks)\n",
    "    \n",
    "    return round(a / b, 2)"
   ]
  },
  {
   "cell_type": "code",
   "execution_count": null,
   "id": "1b95b8c8",
   "metadata": {},
   "outputs": [],
   "source": [
    "# fungsi untuk menghitung nilai rata-rata elemen sebuah list\n",
    "def kalkulasi_rerata(list_masukan):\n",
    "    # nilai rata-rata dibulatkan sampai 2 desimal di\n",
    "    # belakang koma\n",
    "    return round(sum(list_masukan) / len(list_masukan), 2)"
   ]
  },
  {
   "cell_type": "code",
   "execution_count": null,
   "id": "d0bd2fcb",
   "metadata": {},
   "outputs": [],
   "source": [
    "def kalkulasi_rerata_ips(df):\n",
    "    # list sks\n",
    "    lst_sks = list(df.columns.get_level_values(0))[1:]\n",
    "\n",
    "    # list ips\n",
    "    lst_tmp =[]\n",
    "    for i in df.itertuples():\n",
    "        lst_grd = list(i[2:])\n",
    "        kalkulasi_ips(lst_grd, lst_sks)\n",
    "        lst_tmp.append(kalkulasi_ips(lst_grd, lst_sks))\n",
    "    \n",
    "    return kalkulasi_rerata(lst_tmp)"
   ]
  },
  {
   "cell_type": "code",
   "execution_count": null,
   "id": "b7f0d1b1",
   "metadata": {},
   "outputs": [],
   "source": [
    "def proses_tahun_ajaran(tahun_ajaran):\n",
    "    aw, ak = tahun_ajaran[:len(tahun_ajaran)//2], tahun_ajaran[len(tahun_ajaran)//2:]\n",
    "    aw = int(\"20\" + aw)\n",
    "    ak = int(\"20\" + ak)\n",
    "    \n",
    "    dict_info = {}\n",
    "    tingkat = 4\n",
    "    semester = 8\n",
    "    for i in range(aw-3, aw+1): \n",
    "        dict_info.update({str(tingkat) : {'Angkatan' : i ,\n",
    "                          'Semester' : semester}})\n",
    "        tingkat -= 1\n",
    "        semester -= 2\n",
    "    \n",
    "    df_hasil = pd.DataFrame(columns=['Strata',\n",
    "                                     'Prodi',\n",
    "                                     'Tingkat',\n",
    "                                     'Angkatan',\n",
    "                                     'Semester'])\n",
    "    \n",
    "    for idx, ele in enumerate(tupl_prodi):\n",
    "        srata = ele[0]\n",
    "        for key in dict_info:\n",
    "            to_append = [srata, ele[1], key,\n",
    "                         dict_info[key]['Angkatan'], dict_info[key]['Semester']]\n",
    "            a_series = pd.Series(to_append, index = df_hasil.columns)\n",
    "            df_hasil = df_hasil.append(a_series, ignore_index=True)\n",
    "    \n",
    "    df_hasil.drop(df_hasil[(df_hasil['Strata'] == 'D3')  & (df_hasil['Tingkat'] == '4')].index, inplace = True)\n",
    "    df_hasil.drop(df_hasil[(df_hasil['Prodi'] == 'Teknologi Rekayasa Perangkat Lunak (Tolikara)')  & \n",
    "                           ((df_hasil['Tingkat'] == '4') |\n",
    "                            (df_hasil['Tingkat'] == '3') |\n",
    "                            (df_hasil['Tingkat'] == '2')\n",
    "                           )].index, inplace = True)\n",
    "    \n",
    "    df_hasil_akhir = pd.DataFrame(columns=['Prodi',\n",
    "                                           'Tingkat',\n",
    "                                           'Rata-rata ' + str(tahun_ajaran[:2]+'/'+tahun_ajaran[2:]),\n",
    "                                           'Kode MK ' + str(tahun_ajaran[:2]+'/'+tahun_ajaran[2:])])\n",
    "    \n",
    "    for i in df_hasil.itertuples():\n",
    "        s = str(i.Semester)\n",
    "        p = str(i.Prodi)\n",
    "        a = str(i.Angkatan)\n",
    "\n",
    "        try:\n",
    "            df_mentah = memuat_data_ke_df(s, p, a)\n",
    "            df_hasil = prapemrosesan_data(df_mentah, s, p, a)\n",
    "            ips_tingkat = kalkulasi_rerata_ips(df_hasil)\n",
    "            \n",
    "            to_append = [i.Prodi,\n",
    "                         i.Tingkat,\n",
    "                         ips_tingkat,\n",
    "                         list(df_hasil.columns.get_level_values(2)[1:])]\n",
    "            a_series = pd.Series(to_append, index = df_hasil_akhir.columns)\n",
    "            df_hasil_akhir = df_hasil_akhir.append(a_series, ignore_index=True)\n",
    "            \n",
    "        except Exception as e:\n",
    "            to_append = [i.Prodi,\n",
    "                         i.Tingkat,\n",
    "                         np.isnan(),\n",
    "                         np.isnan()]\n",
    "            a_series = pd.Series(to_append, index = df_hasil_akhir.columns)\n",
    "            df_hasil_akhir = df_hasil_akhir.append(a_series, ignore_index=True)\n",
    "    \n",
    "    return df_hasil_akhir"
   ]
  },
  {
   "cell_type": "code",
   "execution_count": null,
   "id": "c533f9d8",
   "metadata": {},
   "outputs": [],
   "source": [
    "df_kiri = proses_tahun_ajaran(str(1920))\n",
    "df_kanan = proses_tahun_ajaran(str(2021))\n",
    "\n",
    "df_gabung = pd.merge(df_kiri, df_kanan, on=[\"Prodi\", \"Tingkat\"])"
   ]
  },
  {
   "cell_type": "code",
   "execution_count": null,
   "id": "fcdd0a49",
   "metadata": {},
   "outputs": [],
   "source": [
    "display(df_gabung)"
   ]
  },
  {
   "cell_type": "markdown",
   "id": "8d5ba125",
   "metadata": {},
   "source": [
    "---"
   ]
  },
  {
   "cell_type": "code",
   "execution_count": null,
   "id": "ae22c53b",
   "metadata": {},
   "outputs": [],
   "source": [
    "# # debug\n",
    "# s = '2'\n",
    "# p = 'Teknologi Rekayasa Perangkat Lunak (Tolikara)'\n",
    "# a = '2019'"
   ]
  },
  {
   "cell_type": "code",
   "execution_count": null,
   "id": "9ffda286",
   "metadata": {},
   "outputs": [],
   "source": [
    "# df_mentah = memuat_data_ke_df(s, p, a)\n",
    "# # display(df_mentah)"
   ]
  },
  {
   "cell_type": "code",
   "execution_count": null,
   "id": "afc3eef9",
   "metadata": {},
   "outputs": [],
   "source": [
    "# df_hasil = prapemrosesan_data(df_mentah, s, p, a)\n",
    "# display(df_hasil)"
   ]
  },
  {
   "cell_type": "code",
   "execution_count": null,
   "id": "afed8366",
   "metadata": {},
   "outputs": [],
   "source": [
    "# print(kalkulasi_rerata_ips(df_hasil))"
   ]
  },
  {
   "cell_type": "code",
   "execution_count": null,
   "id": "a1eb7eed",
   "metadata": {},
   "outputs": [],
   "source": [
    "# df_res.to_excel(\"ip_output.xlsx\") "
   ]
  },
  {
   "cell_type": "markdown",
   "id": "cc2b6e85",
   "metadata": {},
   "source": [
    "---"
   ]
  }
 ],
 "metadata": {
  "kernelspec": {
   "display_name": "Python 3",
   "language": "python",
   "name": "python3"
  },
  "language_info": {
   "codemirror_mode": {
    "name": "ipython",
    "version": 3
   },
   "file_extension": ".py",
   "mimetype": "text/x-python",
   "name": "python",
   "nbconvert_exporter": "python",
   "pygments_lexer": "ipython3",
   "version": "3.6.13"
  }
 },
 "nbformat": 4,
 "nbformat_minor": 5
}
