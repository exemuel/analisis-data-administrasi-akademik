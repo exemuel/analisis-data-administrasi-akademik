{
 "cells": [
  {
   "cell_type": "markdown",
   "metadata": {},
   "source": [
    "Notebook ini menyajikan pengolahan nilai setiap mata kuliah / tingkat / prodi pada dua Semester Tahun Ajaran yang diberikan pengguna sebagai masukan. \n",
    "\n",
    "Hasil pengolahan adalah tabel yang menyajikan rata-rata Indeks Prestasi Semester pada dua Semester Tahun Ajaran yang diberikan."
   ]
  },
  {
   "cell_type": "code",
   "execution_count": null,
   "metadata": {},
   "outputs": [],
   "source": [
    "import pandas as pd"
   ]
  },
  {
   "cell_type": "code",
   "execution_count": null,
   "metadata": {},
   "outputs": [],
   "source": [
    "# simpan informasi stata dan nama prodi dalam sebuah tupel\n",
    "tupl_prodi = tuple([['D3', 'Teknologi Informasi'],\n",
    "                    ['D3', 'Teknologi Komputer'],\n",
    "                    ['D4', 'Teknologi Rekayasa Perangkat Lunak'],\n",
    "                    ['D4', 'Teknologi Rekayasa Perangkat Lunak (Tolikara)'],\n",
    "                    ['S1', 'Informatika'],\n",
    "                    ['S1', 'Sistem Informasi'],\n",
    "                    ['S1', 'Teknik Elektro'],\n",
    "                    ['S1', 'Teknik Bioproses'],\n",
    "                    ['S1', 'Manajemen Rekayasa']])\n",
    "\n",
    "# simpan informasi grade dalam sebuah dictionary\n",
    "dict_grade = {'A' : 4.0,\n",
    "              'AB' : 3.5,\n",
    "              'B' : 3.0,\n",
    "              'BC' : 2.5,\n",
    "              'C' : 2.0,\n",
    "              'D' : 1.0,\n",
    "              'E' : 0,\n",
    "              'T' : float('NaN')}"
   ]
  },
  {
   "cell_type": "code",
   "execution_count": null,
   "metadata": {},
   "outputs": [],
   "source": [
    "def memuat_data_ke_df(prodi, angkatan):\n",
    "    angkatan = str(angkatan)\n",
    "    if prodi == 'Teknologi Rekayasa Perangkat Lunak (Tolikara)':\n",
    "        df = pd.read_excel('./nilai/Rekap_Nilai_' + \n",
    "                           prodi.replace(' (Tolikara)','') + \n",
    "                           '_' + angkatan + '.xlsx',\n",
    "                       header = [0, 1, 2, 3])\n",
    "    else:\n",
    "        df = pd.read_excel('./nilai/Rekap_Nilai_' + \n",
    "                           prodi + '_' + \n",
    "                           angkatan + '.xlsx',\n",
    "                       header = [0, 1, 2, 3])\n",
    "    return df"
   ]
  },
  {
   "cell_type": "code",
   "execution_count": null,
   "metadata": {},
   "outputs": [],
   "source": [
    "def prapemrosesan_data(df, semester, prodi, angkatan):\n",
    "    semester = str(semester)\n",
    "    angkatan = str(angkatan)\n",
    "    \n",
    "    df_grade = df.xs('Semester ' + semester, level=0, axis=1)\n",
    "    df_grade = df_grade.iloc[: , :-4]\n",
    "    \n",
    "    cols_km = [str(c) for c in list(df_grade.columns.get_level_values(1))[:] \n",
    "              if c != 'Grade' and not 'Unnamed' in str(c)]\n",
    "    cols_km.insert(0, \"Nim\")\n",
    "    \n",
    "    cols = [c for c in df_grade.columns if 'Grade' in c]\n",
    "    df_grade = df_grade[cols]\n",
    "    \n",
    "    dft = pd.concat([df.xs('Nim', level=3, axis=1),\n",
    "                     df_grade], axis=1)\n",
    "    \n",
    "    lst_tmp = []\n",
    "    for idx, col in enumerate(dft):\n",
    "        if idx == 0:\n",
    "            lst_tmp.append(('SKS', 'Grade', cols_km[idx]))\n",
    "        else:\n",
    "            lst_tmp.append((col[0], col[1], cols_km[idx]))\n",
    "    \n",
    "    # sesuaikan nama kolom\n",
    "    dft.columns = pd.MultiIndex.from_tuples(tuple(lst_tmp))\n",
    "    \n",
    "    # substitusi semua grade menjadi nilai skala 0-4\n",
    "    for i in dft:\n",
    "        dft[i] = [dict_grade.get(item,item) for item in dft[i].tolist()]\n",
    "        \n",
    "    # penanganan khusus Prodi Teknologi Rekayasa Perangkat Lunak (Tolikara)\n",
    "    if angkatan == str('2021'):\n",
    "        if prodi == 'Teknologi Rekayasa Perangkat Lunak (Tolikara)':\n",
    "            dft = dft[:25]\n",
    "            dft = dft.dropna(axis=1)\n",
    "        elif prodi == 'Teknologi Rekayasa Perangkat Lunak':\n",
    "            dft = dft[25:]\n",
    "    \n",
    "    # hapus baris data apabila terdapat 50% nilai 0 \n",
    "    mask = (dft.iloc[:, 1:] == float(0)).sum(1) >= len(dft.columns[1:]) / 2\n",
    "    dft = dft[~mask]\n",
    "    \n",
    "    # hapus setiap kolom yang semua nilainya NaN\n",
    "    dft = dft.dropna(how='all', axis=1)\n",
    "    \n",
    "    # hapus setiap baris yang semua nilainya NaN\n",
    "    dft = dft.dropna(how='all', subset=dft.columns[1:])\n",
    "    \n",
    "    # reset index\n",
    "    dft = dft.reset_index(drop=True)\n",
    "    \n",
    "    return dft"
   ]
  },
  {
   "cell_type": "code",
   "execution_count": null,
   "metadata": {},
   "outputs": [],
   "source": [
    "# fungsi untuk menghitung indeks prestasi semester berdasarkan\n",
    "# list grade dan list bobot sks\n",
    "def kalkulasi_ips(lst_grd, lst_sks):\n",
    "    # pastikan list sks tidak mengandung NaN\n",
    "    # NaN berarti mahasiswa tersebut tidak mengambil\n",
    "    # mata kuliah yang dimaksud\n",
    "    temp = [i for i, e in enumerate(lst_grd) if str(e).lower() == 'nan']\n",
    "    \n",
    "    lst_grd = [element for (i,element) in enumerate(lst_grd) if i not in temp]\n",
    "    lst_sks = [element for (i,element) in enumerate(lst_sks) if i not in temp]\n",
    "    \n",
    "    a = sum(x * y for x, y in zip(lst_grd, lst_sks))\n",
    "    b = sum(lst_sks)\n",
    "    \n",
    "    return round(a / b, 2)"
   ]
  },
  {
   "cell_type": "code",
   "execution_count": null,
   "metadata": {},
   "outputs": [],
   "source": [
    "# fungsi untuk menghitung nilai rata-rata elemen sebuah list\n",
    "def kalkulasi_rerata(list_masukan):\n",
    "    # nilai rata-rata dibulatkan sampai 2 desimal di\n",
    "    # belakang koma\n",
    "    return round(sum(list_masukan) / len(list_masukan), 2)"
   ]
  },
  {
   "cell_type": "code",
   "execution_count": null,
   "metadata": {},
   "outputs": [],
   "source": [
    "def kalkulasi_rerata_ips(df):\n",
    "    # list sks\n",
    "    lst_sks = list(df.columns.get_level_values(0))[1:]\n",
    "\n",
    "    # list ips\n",
    "    lst_tmp =[]\n",
    "    for i in df.itertuples():\n",
    "        lst_grd = list(i[2:])\n",
    "        kalkulasi_ips(lst_grd, lst_sks)\n",
    "        lst_tmp.append(kalkulasi_ips(lst_grd, lst_sks))\n",
    "    \n",
    "    return kalkulasi_rerata(lst_tmp)"
   ]
  },
  {
   "cell_type": "code",
   "execution_count": null,
   "metadata": {},
   "outputs": [],
   "source": [
    "def generate_info(tahun_ajaran):\n",
    "    aw, ak = tahun_ajaran[:len(tahun_ajaran)//2], tahun_ajaran[len(tahun_ajaran)//2:]\n",
    "    aw = int(\"20\" + aw)\n",
    "    ak = int(\"20\" + ak)\n",
    "    \n",
    "    dict_info = {}\n",
    "    tingkat = 4\n",
    "    semester = 8\n",
    "    for i in range(aw-3, aw+1): \n",
    "        dict_info.update({str(tingkat) : {'Angkatan' : i ,\n",
    "                          'Semester' : semester}})\n",
    "        tingkat -= 1\n",
    "        semester -= 2\n",
    "    \n",
    "    df_hasil = pd.DataFrame(columns=['Strata',\n",
    "                                     'Prodi',\n",
    "                                     'Tingkat',\n",
    "                                     'Angkatan',\n",
    "                                     'Semester'])\n",
    "    \n",
    "    for idx, ele in enumerate(tupl_prodi):\n",
    "        srata = ele[0]\n",
    "        for key in dict_info:\n",
    "            to_append = [srata, ele[1], key,\n",
    "                         dict_info[key]['Angkatan'], dict_info[key]['Semester']]\n",
    "            a_series = pd.Series(to_append, index = df_hasil.columns)\n",
    "            df_hasil = df_hasil.append(a_series, ignore_index=True)\n",
    "    \n",
    "    df_hasil.drop(df_hasil[(df_hasil['Strata'] == 'D3')  & (df_hasil['Tingkat'] == '4')].index, inplace = True)\n",
    "    df_hasil.drop(df_hasil[(df_hasil['Prodi'] == 'Teknologi Rekayasa Perangkat Lunak (Tolikara)')  & \n",
    "                           ((df_hasil['Tingkat'] == '4') |\n",
    "                            (df_hasil['Tingkat'] == '3') |\n",
    "                            (df_hasil['Tingkat'] == '2')\n",
    "                           )].index, inplace = True)\n",
    "    \n",
    "    return df_hasil"
   ]
  },
  {
   "cell_type": "code",
   "execution_count": null,
   "metadata": {},
   "outputs": [],
   "source": [
    "def proses(semester, prodi, angkatan):\n",
    "    s = str(semester)\n",
    "    p = str(prodi)\n",
    "    a = str(angkatan)\n",
    "\n",
    "    df_mentah = memuat_data_ke_df(p, a)\n",
    "    df = prapemrosesan_data(df_mentah, s, p, a)\n",
    "    \n",
    "    return df"
   ]
  },
  {
   "cell_type": "code",
   "execution_count": null,
   "metadata": {},
   "outputs": [],
   "source": [
    "def membandingkan_tahun_ajaran(x, y):\n",
    "    df_x = generate_info(x)\n",
    "    df_y = generate_info(y)\n",
    "    \n",
    "    df_xy = pd.merge(df_x, df_y, on=['Strata', 'Prodi', 'Tingkat', 'Semester'])\n",
    "    \n",
    "    df_hasil = pd.DataFrame(columns=['Prodi',\n",
    "                                     'Tingkat',\n",
    "                                     'Rata-rata ' + str(x[:2] + '/' + x[2:]),\n",
    "                                     'Rata-rata ' + str(y[:2] + '/' + y[2:]),\n",
    "                                     'Kode MK'])\n",
    "    \n",
    "    for i in df_xy.itertuples():\n",
    "        df_ix = proses(i.Semester, i.Prodi, i.Angkatan_x)\n",
    "        df_iy = proses(i.Semester, i.Prodi, i.Angkatan_y)\n",
    "\n",
    "        # interseksi kolom\n",
    "        cols = df_ix.columns & df_iy.columns\n",
    "        mk = cols.get_level_values(2).tolist()[1:]\n",
    "        \n",
    "        if len(mk) == 0:\n",
    "            a = float('NaN')\n",
    "            b = float('NaN')\n",
    "        else:\n",
    "            # kalkulasi rata-rata berdasarkan interseksi kolom\n",
    "            try:\n",
    "                a = kalkulasi_rerata_ips(df_ix)\n",
    "            except Exception as e:\n",
    "                print('Pada', i.Semester, i.Prodi, i.Angkatan_x, e)\n",
    "                a = float('NaN')\n",
    "\n",
    "            try:\n",
    "                b = kalkulasi_rerata_ips(df_iy)\n",
    "            except Exception as e:\n",
    "                print('Pada', i.Semester, i.Prodi, i.Angkatan_y, e)\n",
    "                b = float('NaN')\n",
    "\n",
    "        to_append = [i.Prodi,\n",
    "                     i.Tingkat,\n",
    "                     a, b, mk]\n",
    "        a_series = pd.Series(to_append, index = df_hasil.columns)\n",
    "        df_hasil = df_hasil.append(a_series, ignore_index=True)\n",
    "            \n",
    "    return df_hasil"
   ]
  },
  {
   "cell_type": "code",
   "execution_count": null,
   "metadata": {},
   "outputs": [],
   "source": [
    "display(membandingkan_tahun_ajaran('1920', '2021'))"
   ]
  },
  {
   "cell_type": "markdown",
   "metadata": {},
   "source": [
    "**Copyright © 2021 Biro Administrasi dan Akademik [Institut Teknologi Del](https://www.del.ac.id/). All Rights Reserved**"
   ]
  },
  {
   "cell_type": "markdown",
   "metadata": {},
   "source": [
    "---"
   ]
  }
 ],
 "metadata": {
  "kernelspec": {
   "display_name": "Python 3",
   "language": "python",
   "name": "python3"
  },
  "language_info": {
   "codemirror_mode": {
    "name": "ipython",
    "version": 3
   },
   "file_extension": ".py",
   "mimetype": "text/x-python",
   "name": "python",
   "nbconvert_exporter": "python",
   "pygments_lexer": "ipython3",
   "version": "3.8.5"
  }
 },
 "nbformat": 4,
 "nbformat_minor": 5
}
