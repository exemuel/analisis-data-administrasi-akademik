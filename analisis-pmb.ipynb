{
 "cells": [
  {
   "cell_type": "code",
   "execution_count": null,
   "metadata": {},
   "outputs": [],
   "source": [
    "# import 3rd party libraries\n",
    "import pandas as pd\n",
    "import plotly.express as px"
   ]
  },
  {
   "cell_type": "code",
   "execution_count": null,
   "metadata": {},
   "outputs": [],
   "source": [
    "data = {'Project':  ['Project 1', 'Project 2', ' Project 3', 'Project 4', 'Project 5', 'Project 6', 'Project 7', 'Project 8', 'Project 9', 'Project 10'],\n",
    "        'Date': ['10/1/2020', '10/2/2020', '11/1/2020', '12/1/2020', '12/2/2020', '12/1/2020', '2/1/2021', '2/1/2021', '3/1/2021', '4/1/2021']}\n",
    "\n",
    "df2 = pd.DataFrame(data, columns = ['Project','Date'])\n",
    "df2['Date'] = pd.to_datetime(df2['Date'])\n",
    "\n",
    "df_grouped = (\n",
    "    df2.groupby(\n",
    "        # normalize all dates to start of month\n",
    "        df2['Date'].astype('datetime64[M]')\n",
    "    )['Project'].count().rename('Count').to_frame()\n",
    ")\n",
    "df_grouped['Names'] = (\n",
    "    df2.groupby(df2['Date'].astype('datetime64[M]')\n",
    "    )['Project'].agg(',<br>    '.join)\n",
    ")\n",
    "\n",
    "print(df_grouped)\n",
    "\n",
    "fig = px.line(\n",
    "    df_grouped, y='Count', title='<b>Projects per month</b>',\n",
    "    hover_data=['Names']\n",
    ")\n",
    "fig.write_html('fig1.html', auto_open=True)"
   ]
  },
  {
   "cell_type": "code",
   "execution_count": null,
   "metadata": {},
   "outputs": [],
   "source": [
    "df2"
   ]
  },
  {
   "cell_type": "code",
   "execution_count": null,
   "metadata": {},
   "outputs": [],
   "source": [
    "df"
   ]
  },
  {
   "cell_type": "code",
   "execution_count": null,
   "metadata": {},
   "outputs": [],
   "source": [
    "# file location \n",
    "loc = (\"data\\PMB-ITDel.xls\")\n",
    "\n",
    "# to open Workbook\n",
    "df_pmdk = pd.read_excel(loc, header=1)"
   ]
  },
  {
   "cell_type": "code",
   "execution_count": null,
   "metadata": {},
   "outputs": [],
   "source": [
    "# get records of PMB 2022\n",
    "condition = [i for i in df_pmdk[\"No Pendaftaran\"] if i[4:6] == \"22\"]\n",
    "\n",
    "# selecting rows based on condition \n",
    "df_pmdk = df_pmdk[df_pmdk[\"No Pendaftaran\"].isin(condition)] "
   ]
  },
  {
   "cell_type": "code",
   "execution_count": null,
   "metadata": {},
   "outputs": [],
   "source": [
    "df_pmdk"
   ]
  },
  {
   "cell_type": "code",
   "execution_count": null,
   "metadata": {},
   "outputs": [],
   "source": [
    "# get unique elements in Gelombang Pendaftaran column\n",
    "gel_pendaftaran = (df_pmdk[\"Gelombang Pendaftaran\"]).unique()\n",
    "\n",
    "print(\"Unique elements in column 'Gelombang Pendaftaran' :\")\n",
    "print(gel_pendaftaran)"
   ]
  },
  {
   "cell_type": "code",
   "execution_count": null,
   "metadata": {},
   "outputs": [],
   "source": [
    "df_pmdk_grouped = (df_pmdk.groupby(df_pmdk[\"Gelombang Pendaftaran\"])[\"Informasi Del\"].count().rename('Jumlah').to_frame())"
   ]
  },
  {
   "cell_type": "code",
   "execution_count": null,
   "metadata": {},
   "outputs": [],
   "source": [
    "df_pmdk_grouped['Names'] = (\n",
    "    df2.groupby(df2['Date'].astype('datetime64[M]')\n",
    "    )['Project'].agg(',<br>    '.join)\n",
    ")"
   ]
  },
  {
   "cell_type": "code",
   "execution_count": null,
   "metadata": {},
   "outputs": [],
   "source": [
    "fig = px.line(df_pmdk_grouped, x=\"Gelombang Pendaftaran\", y=\"Jumlah\")\n",
    "fig.show()"
   ]
  },
  {
   "cell_type": "code",
   "execution_count": null,
   "metadata": {},
   "outputs": [],
   "source": []
  },
  {
   "cell_type": "code",
   "execution_count": null,
   "metadata": {},
   "outputs": [],
   "source": [
    "# df_pmdk = pd.read_excel('data\\PMDK 2020.xlsx', sheet_name='PMDK 2019-2020')"
   ]
  },
  {
   "cell_type": "code",
   "execution_count": null,
   "metadata": {},
   "outputs": [],
   "source": [
    "# print(df_pmdk)"
   ]
  },
  {
   "cell_type": "code",
   "execution_count": null,
   "metadata": {},
   "outputs": [],
   "source": []
  }
 ],
 "metadata": {
  "kernelspec": {
   "display_name": "Python 3 (ipykernel)",
   "language": "python",
   "name": "python3"
  },
  "language_info": {
   "codemirror_mode": {
    "name": "ipython",
    "version": 3
   },
   "file_extension": ".py",
   "mimetype": "text/x-python",
   "name": "python",
   "nbconvert_exporter": "python",
   "pygments_lexer": "ipython3",
   "version": "3.9.13"
  }
 },
 "nbformat": 4,
 "nbformat_minor": 4
}
